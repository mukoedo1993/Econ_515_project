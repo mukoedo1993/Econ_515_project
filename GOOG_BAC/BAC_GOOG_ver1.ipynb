{
 "cells": [
  {
   "cell_type": "markdown",
   "metadata": {},
   "source": [
    "**Update**\n",
    "1st version 14:39 Sep,24th Zichun Wang"
   ]
  },
  {
   "cell_type": "markdown",
   "metadata": {},
   "source": [
    "**3 steps:**\n",
    "1: read data BAC and GOOG from 2010-09-24 to 2020-09-24\n",
    "2: other operations"
   ]
  },
  {
   "cell_type": "code",
   "execution_count": 2,
   "metadata": {},
   "outputs": [],
   "source": [
    "#import necessary libraries\n",
    "import qntutl1 as q\n",
    "import numpy as np\n",
    "#Each time you want to create a new project, you need to rename the qntutl1.py file.\n"
   ]
  },
  {
   "cell_type": "code",
   "execution_count": 5,
   "metadata": {},
   "outputs": [
    {
     "name": "stdout",
     "output_type": "stream",
     "text": [
      "[*********************100%***********************]  1 of 1 completed\n",
      "                Open      High       Low     Close  Adj Close    Volume Source\n",
      "Date                                                                          \n",
      "2000-09-25  27.59375  28.09375  27.37500  27.50000  16.507301   8120600  Yahoo\n",
      "2000-09-26  27.37500  27.71875  26.84375  26.90625  16.150898   9646800  Yahoo\n",
      "2000-09-27  26.93750  27.06250  25.93750  26.34375  15.813237  10652000  Yahoo\n",
      "2000-09-28  26.56250  27.18750  26.09375  27.00000  16.207170   8149800  Yahoo\n",
      "2000-09-29  26.62500  26.90625  26.00000  26.18750  15.719452   9287600  Yahoo\n",
      "                 Open       High        Low      Close  Adj Close     Volume  \\\n",
      "Date                                                                           \n",
      "2019-09-17  29.850000  30.020000  29.590000  29.940001  29.180439   48284900   \n",
      "2019-09-18  29.770000  30.150000  29.549999  30.000000  29.238918   66640400   \n",
      "2019-09-19  30.000000  30.100000  29.750000  29.820000  29.063484   43035700   \n",
      "2019-09-20  29.969999  30.129999  29.570000  29.590000  28.839319  167269000   \n",
      "2019-09-23  29.309999  29.620001  29.170000  29.520000  28.771095   52048300   \n",
      "\n",
      "           Source  \n",
      "Date               \n",
      "2019-09-17  Yahoo  \n",
      "2019-09-18  Yahoo  \n",
      "2019-09-19  Yahoo  \n",
      "2019-09-20  Yahoo  \n",
      "2019-09-23  Yahoo  \n"
     ]
    }
   ],
   "source": [
    "data = q.get_data('BAC','2000-9-24','2019-9-24')\n",
    "print(data.head())\n",
    "print(data.tail())\n",
    "data.to_excel(\"BAC_ver1.xlsx\")"
   ]
  },
  {
   "cell_type": "code",
   "execution_count": 6,
   "metadata": {},
   "outputs": [
    {
     "name": "stdout",
     "output_type": "stream",
     "text": [
      "[*********************100%***********************]  1 of 1 completed\n",
      "                 Open       High        Low      Close  Adj Close    Volume  \\\n",
      "Date                                                                          \n",
      "2004-08-19  49.813286  51.835709  47.800831  49.982655  49.982655  44871300   \n",
      "2004-08-20  50.316402  54.336334  50.062355  53.952770  53.952770  22942800   \n",
      "2004-08-23  55.168217  56.528118  54.321388  54.495735  54.495735  18342800   \n",
      "2004-08-24  55.412300  55.591629  51.591621  52.239193  52.239193  15319700   \n",
      "2004-08-25  52.284027  53.798351  51.746044  52.802086  52.802086   9232100   \n",
      "\n",
      "           Source  \n",
      "Date               \n",
      "2004-08-19  Yahoo  \n",
      "2004-08-20  Yahoo  \n",
      "2004-08-23  Yahoo  \n",
      "2004-08-24  Yahoo  \n",
      "2004-08-25  Yahoo  \n",
      "                   Open         High          Low        Close    Adj Close  \\\n",
      "Date                                                                          \n",
      "2019-09-17  1230.400024  1235.000000  1223.689941  1229.150024  1229.150024   \n",
      "2019-09-18  1227.510010  1235.609985  1216.530029  1232.410034  1232.410034   \n",
      "2019-09-19  1232.060059  1244.439941  1232.020020  1238.709961  1238.709961   \n",
      "2019-09-20  1233.119995  1243.319946  1223.079956  1229.930054  1229.930054   \n",
      "2019-09-23  1226.000000  1239.089966  1224.170044  1234.030029  1234.030029   \n",
      "\n",
      "             Volume Source  \n",
      "Date                        \n",
      "2019-09-17   955100  Yahoo  \n",
      "2019-09-18  1135100  Yahoo  \n",
      "2019-09-19   996000  Yahoo  \n",
      "2019-09-20  2270000  Yahoo  \n",
      "2019-09-23  1062400  Yahoo  \n"
     ]
    }
   ],
   "source": [
    "data = q.get_data('GOOG','2000-9-24','2019-9-24')\n",
    "print(data.head())\n",
    "print(data.tail())\n",
    "data.to_excel(\"GOOG_ver1.xlsx\")"
   ]
  },
  {
   "cell_type": "code",
   "execution_count": null,
   "metadata": {},
   "outputs": [],
   "source": []
  }
 ],
 "metadata": {
  "kernelspec": {
   "display_name": "Python 3",
   "language": "python",
   "name": "python3"
  },
  "language_info": {
   "codemirror_mode": {
    "name": "ipython",
    "version": 3
   },
   "file_extension": ".py",
   "mimetype": "text/x-python",
   "name": "python",
   "nbconvert_exporter": "python",
   "pygments_lexer": "ipython3",
   "version": "3.8.3"
  }
 },
 "nbformat": 4,
 "nbformat_minor": 4
}
