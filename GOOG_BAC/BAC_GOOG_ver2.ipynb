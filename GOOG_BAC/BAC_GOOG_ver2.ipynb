{
 "cells": [
  {
   "cell_type": "markdown",
   "metadata": {},
   "source": [
    "**Update**\n",
    "2nd version 15:50 Sep,24th Zichun Wang\n",
    "I found that GOOG started at about 2004. So, I changed my idea, and started to retrive data from 2010-09-24. Please check the ebw data on the GOOG_ver2.xlsx\n",
    "And, I update two xlsx files which contain First_order_difference data for BAC and GOOG, respectively."
   ]
  },
  {
   "cell_type": "markdown",
   "metadata": {},
   "source": [
    "**Tips**"
   ]
  },
  {
   "cell_type": "markdown",
   "metadata": {},
   "source": [
    "**Main steps:**\n",
    "1: read data BAC from 2000-09-24 to 2020-09-24, and, read data GOOG from 2010-09-24 to 2020-09-24.\n",
    "\n",
    "2: preprocession\n",
    "i: first_order_difference on open and close\n",
    "ii: call fillna to eliminate NA values\n",
    "iii: plot first order difference of log2(open) and log2(closed) price.\n",
    "\n",
    "3: Other operations(this file is unfinished...)"
   ]
  },
  {
   "cell_type": "markdown",
   "metadata": {},
   "source": [
    "**1:read data:**"
   ]
  },
  {
   "cell_type": "code",
   "execution_count": 2,
   "metadata": {},
   "outputs": [],
   "source": [
    "#import necessary libraries\n",
    "import qntutl1 as q\n",
    "import numpy as np\n",
    "#Each time you want to create a new project, you need to rename the qntutl1.py file.\n"
   ]
  },
  {
   "cell_type": "code",
   "execution_count": 7,
   "metadata": {},
   "outputs": [
    {
     "name": "stdout",
     "output_type": "stream",
     "text": [
      "[*********************100%***********************]  1 of 1 completed\n",
      "                Open      High       Low     Close  Adj Close    Volume Source\n",
      "Date                                                                          \n",
      "2000-09-25  27.59375  28.09375  27.37500  27.50000  16.507301   8120600  Yahoo\n",
      "2000-09-26  27.37500  27.71875  26.84375  26.90625  16.150898   9646800  Yahoo\n",
      "2000-09-27  26.93750  27.06250  25.93750  26.34375  15.813237  10652000  Yahoo\n",
      "2000-09-28  26.56250  27.18750  26.09375  27.00000  16.207170   8149800  Yahoo\n",
      "2000-09-29  26.62500  26.90625  26.00000  26.18750  15.719452   9287600  Yahoo\n",
      "                 Open       High        Low      Close  Adj Close     Volume  \\\n",
      "Date                                                                           \n",
      "2019-09-17  29.850000  30.020000  29.590000  29.940001  29.180439   48284900   \n",
      "2019-09-18  29.770000  30.150000  29.549999  30.000000  29.238918   66640400   \n",
      "2019-09-19  30.000000  30.100000  29.750000  29.820000  29.063484   43035700   \n",
      "2019-09-20  29.969999  30.129999  29.570000  29.590000  28.839319  167269000   \n",
      "2019-09-23  29.309999  29.620001  29.170000  29.520000  28.771095   52048300   \n",
      "\n",
      "           Source  \n",
      "Date               \n",
      "2019-09-17  Yahoo  \n",
      "2019-09-18  Yahoo  \n",
      "2019-09-19  Yahoo  \n",
      "2019-09-20  Yahoo  \n",
      "2019-09-23  Yahoo  \n"
     ]
    }
   ],
   "source": [
    "BAC = q.get_data('BAC','2000-9-24','2019-9-24')\n",
    "print(BAC.head())\n",
    "print(BAC.tail())\n",
    "BAC.to_excel(\"BAC_ver1.xlsx\")"
   ]
  },
  {
   "cell_type": "code",
   "execution_count": 14,
   "metadata": {},
   "outputs": [
    {
     "name": "stdout",
     "output_type": "stream",
     "text": [
      "[*********************100%***********************]  1 of 1 completed\n",
      "                  Open        High         Low       Close   Adj Close  \\\n",
      "Date                                                                     \n",
      "2009-09-24  249.300568  249.768799  245.579514  247.457474  247.457474   \n",
      "2009-09-25  246.222092  249.031570  245.081375  245.320480  245.320480   \n",
      "2009-09-28  246.496078  249.813644  245.728943  248.334183  248.334183   \n",
      "2009-09-29  248.832321  248.941910  245.584488  248.334183  248.334183   \n",
      "2009-09-30  249.066437  249.136169  242.710266  246.999191  246.999191   \n",
      "\n",
      "             Volume Source  \n",
      "Date                        \n",
      "2009-09-24  5074000  Yahoo  \n",
      "2009-09-25  4114400  Yahoo  \n",
      "2009-09-28  3692300  Yahoo  \n",
      "2009-09-29  4214000  Yahoo  \n",
      "2009-09-30  6306800  Yahoo  \n",
      "                   Open         High          Low        Close    Adj Close  \\\n",
      "Date                                                                          \n",
      "2019-09-17  1230.400024  1235.000000  1223.689941  1229.150024  1229.150024   \n",
      "2019-09-18  1227.510010  1235.609985  1216.530029  1232.410034  1232.410034   \n",
      "2019-09-19  1232.060059  1244.439941  1232.020020  1238.709961  1238.709961   \n",
      "2019-09-20  1233.119995  1243.319946  1223.079956  1229.930054  1229.930054   \n",
      "2019-09-23  1226.000000  1239.089966  1224.170044  1234.030029  1234.030029   \n",
      "\n",
      "             Volume Source  \n",
      "Date                        \n",
      "2019-09-17   955100  Yahoo  \n",
      "2019-09-18  1135100  Yahoo  \n",
      "2019-09-19   996000  Yahoo  \n",
      "2019-09-20  2270000  Yahoo  \n",
      "2019-09-23  1062400  Yahoo  \n"
     ]
    }
   ],
   "source": [
    "GOOG = q.get_data('GOOG','2009-9-24','2019-9-24')\n",
    "print(GOOG.head())\n",
    "print(GOOG.tail())\n",
    "GOOG.to_excel(\"GOOG_ver2.xlsx\")"
   ]
  },
  {
   "cell_type": "markdown",
   "metadata": {},
   "source": [
    "**2: preparation**\n",
    "\n",
    "(I):log open and close price, get their first_order_difference, i.e., **FOA** ,and plot them.\n"
   ]
  },
  {
   "cell_type": "code",
   "execution_count": 15,
   "metadata": {},
   "outputs": [
    {
     "name": "stdout",
     "output_type": "stream",
     "text": [
      "                  Open        High         Low       Close   Adj Close  \\\n",
      "Date                                                                     \n",
      "2009-09-24  249.300568  249.768799  245.579514  247.457474  247.457474   \n",
      "2009-09-25  246.222092  249.031570  245.081375  245.320480  245.320480   \n",
      "2009-09-28  246.496078  249.813644  245.728943  248.334183  248.334183   \n",
      "2009-09-29  248.832321  248.941910  245.584488  248.334183  248.334183   \n",
      "2009-09-30  249.066437  249.136169  242.710266  246.999191  246.999191   \n",
      "\n",
      "             Volume Source  Open_log2  Close_log2  \n",
      "Date                                               \n",
      "2009-09-24  5074000  Yahoo   7.961742    7.951037  \n",
      "2009-09-25  4114400  Yahoo   7.943816    7.938524  \n",
      "2009-09-28  3692300  Yahoo   7.945421    7.956139  \n",
      "2009-09-29  4214000  Yahoo   7.959030    7.956139  \n",
      "2009-09-30  6306800  Yahoo   7.960387    7.948363  \n",
      "                   Open         High          Low        Close    Adj Close  \\\n",
      "Date                                                                          \n",
      "2019-09-17  1230.400024  1235.000000  1223.689941  1229.150024  1229.150024   \n",
      "2019-09-18  1227.510010  1235.609985  1216.530029  1232.410034  1232.410034   \n",
      "2019-09-19  1232.060059  1244.439941  1232.020020  1238.709961  1238.709961   \n",
      "2019-09-20  1233.119995  1243.319946  1223.079956  1229.930054  1229.930054   \n",
      "2019-09-23  1226.000000  1239.089966  1224.170044  1234.030029  1234.030029   \n",
      "\n",
      "             Volume Source  Open_log2  Close_log2  \n",
      "Date                                               \n",
      "2019-09-17   955100  Yahoo  10.264912   10.263445  \n",
      "2019-09-18  1135100  Yahoo  10.261519   10.267267  \n",
      "2019-09-19   996000  Yahoo  10.266857   10.274623  \n",
      "2019-09-20  2270000  Yahoo  10.268097   10.264361  \n",
      "2019-09-23  1062400  Yahoo  10.259743   10.269162  \n",
      "                Open      High       Low     Close  Adj Close    Volume  \\\n",
      "Date                                                                      \n",
      "2000-09-25  27.59375  28.09375  27.37500  27.50000  16.507301   8120600   \n",
      "2000-09-26  27.37500  27.71875  26.84375  26.90625  16.150898   9646800   \n",
      "2000-09-27  26.93750  27.06250  25.93750  26.34375  15.813237  10652000   \n",
      "2000-09-28  26.56250  27.18750  26.09375  27.00000  16.207170   8149800   \n",
      "2000-09-29  26.62500  26.90625  26.00000  26.18750  15.719452   9287600   \n",
      "\n",
      "           Source  Open_log2  Close_log2  \n",
      "Date                                      \n",
      "2000-09-25  Yahoo   4.786270    4.781360  \n",
      "2000-09-26  Yahoo   4.774787    4.749869  \n",
      "2000-09-27  Yahoo   4.751544    4.719389  \n",
      "2000-09-28  Yahoo   4.731319    4.754888  \n",
      "2000-09-29  Yahoo   4.734710    4.710806  \n",
      "                 Open       High        Low      Close  Adj Close     Volume  \\\n",
      "Date                                                                           \n",
      "2019-09-17  29.850000  30.020000  29.590000  29.940001  29.180439   48284900   \n",
      "2019-09-18  29.770000  30.150000  29.549999  30.000000  29.238918   66640400   \n",
      "2019-09-19  30.000000  30.100000  29.750000  29.820000  29.063484   43035700   \n",
      "2019-09-20  29.969999  30.129999  29.570000  29.590000  28.839319  167269000   \n",
      "2019-09-23  29.309999  29.620001  29.170000  29.520000  28.771095   52048300   \n",
      "\n",
      "           Source  Open_log2  Close_log2  \n",
      "Date                                      \n",
      "2019-09-17  Yahoo   4.899659    4.904002  \n",
      "2019-09-18  Yahoo   4.895787    4.906891  \n",
      "2019-09-19  Yahoo   4.906891    4.898208  \n",
      "2019-09-20  Yahoo   4.905447    4.887038  \n",
      "2019-09-23  Yahoo   4.873321    4.883621  \n"
     ]
    }
   ],
   "source": [
    "import numpy as np\n",
    "BAC['Open_log2']=np.log2(BAC['Open'])\n",
    "BAC['Close_log2']=np.log2(BAC['Close'])\n",
    "GOOG['Open_log2']=np.log2(GOOG['Open'])\n",
    "GOOG['Close_log2']=np.log2(GOOG['Close'])\n",
    "print(GOOG.head())\n",
    "print(GOOG.tail())\n",
    "print(BAC.head())\n",
    "print(BAC.tail())"
   ]
  },
  {
   "cell_type": "markdown",
   "metadata": {},
   "source": [
    "(II):prepropocession:\n",
    "**i**\n",
    "first_order_difference on open and close:"
   ]
  },
  {
   "cell_type": "code",
   "execution_count": 18,
   "metadata": {},
   "outputs": [
    {
     "name": "stdout",
     "output_type": "stream",
     "text": [
      "                Open      High       Low     Close  Adj Close    Volume  \\\n",
      "Date                                                                      \n",
      "2000-09-25  27.59375  28.09375  27.37500  27.50000  16.507301   8120600   \n",
      "2000-09-26  27.37500  27.71875  26.84375  26.90625  16.150898   9646800   \n",
      "2000-09-27  26.93750  27.06250  25.93750  26.34375  15.813237  10652000   \n",
      "2000-09-28  26.56250  27.18750  26.09375  27.00000  16.207170   8149800   \n",
      "2000-09-29  26.62500  26.90625  26.00000  26.18750  15.719452   9287600   \n",
      "\n",
      "           Source  Open_log2  Close_log2  Open_log2_diff  Close_log2_diff  \n",
      "Date                                                                       \n",
      "2000-09-25  Yahoo   4.786270    4.781360             NaN              NaN  \n",
      "2000-09-26  Yahoo   4.774787    4.749869       -0.011483        -0.031490  \n",
      "2000-09-27  Yahoo   4.751544    4.719389       -0.023243        -0.030481  \n",
      "2000-09-28  Yahoo   4.731319    4.754888       -0.020225         0.035499  \n",
      "2000-09-29  Yahoo   4.734710    4.710806        0.003391        -0.044081  \n",
      "                 Open       High        Low      Close  Adj Close     Volume  \\\n",
      "Date                                                                           \n",
      "2019-09-17  29.850000  30.020000  29.590000  29.940001  29.180439   48284900   \n",
      "2019-09-18  29.770000  30.150000  29.549999  30.000000  29.238918   66640400   \n",
      "2019-09-19  30.000000  30.100000  29.750000  29.820000  29.063484   43035700   \n",
      "2019-09-20  29.969999  30.129999  29.570000  29.590000  28.839319  167269000   \n",
      "2019-09-23  29.309999  29.620001  29.170000  29.520000  28.771095   52048300   \n",
      "\n",
      "           Source  Open_log2  Close_log2  Open_log2_diff  Close_log2_diff  \n",
      "Date                                                                       \n",
      "2019-09-17  Yahoo   4.899659    4.904002        0.008240        -0.009126  \n",
      "2019-09-18  Yahoo   4.895787    4.906891       -0.003872         0.002888  \n",
      "2019-09-19  Yahoo   4.906891    4.898208        0.011103        -0.008682  \n",
      "2019-09-20  Yahoo   4.905447    4.887038       -0.001443        -0.011171  \n",
      "2019-09-23  Yahoo   4.873321    4.883621       -0.032126        -0.003417  \n",
      "                  Open        High         Low       Close   Adj Close  \\\n",
      "Date                                                                     \n",
      "2009-09-24  249.300568  249.768799  245.579514  247.457474  247.457474   \n",
      "2009-09-25  246.222092  249.031570  245.081375  245.320480  245.320480   \n",
      "2009-09-28  246.496078  249.813644  245.728943  248.334183  248.334183   \n",
      "2009-09-29  248.832321  248.941910  245.584488  248.334183  248.334183   \n",
      "2009-09-30  249.066437  249.136169  242.710266  246.999191  246.999191   \n",
      "\n",
      "             Volume Source  Open_log2  Close_log2  Open_log2_diff  \\\n",
      "Date                                                                \n",
      "2009-09-24  5074000  Yahoo   7.961742    7.951037             NaN   \n",
      "2009-09-25  4114400  Yahoo   7.943816    7.938524       -0.017926   \n",
      "2009-09-28  3692300  Yahoo   7.945421    7.956139        0.001604   \n",
      "2009-09-29  4214000  Yahoo   7.959030    7.956139        0.013609   \n",
      "2009-09-30  6306800  Yahoo   7.960387    7.948363        0.001357   \n",
      "\n",
      "            Close_log2_diff  \n",
      "Date                         \n",
      "2009-09-24              NaN  \n",
      "2009-09-25        -0.012513  \n",
      "2009-09-28         0.017615  \n",
      "2009-09-29         0.000000  \n",
      "2009-09-30        -0.007777  \n",
      "                   Open         High          Low        Close    Adj Close  \\\n",
      "Date                                                                          \n",
      "2019-09-17  1230.400024  1235.000000  1223.689941  1229.150024  1229.150024   \n",
      "2019-09-18  1227.510010  1235.609985  1216.530029  1232.410034  1232.410034   \n",
      "2019-09-19  1232.060059  1244.439941  1232.020020  1238.709961  1238.709961   \n",
      "2019-09-20  1233.119995  1243.319946  1223.079956  1229.930054  1229.930054   \n",
      "2019-09-23  1226.000000  1239.089966  1224.170044  1234.030029  1234.030029   \n",
      "\n",
      "             Volume Source  Open_log2  Close_log2  Open_log2_diff  \\\n",
      "Date                                                                \n",
      "2019-09-17   955100  Yahoo  10.264912   10.263445        0.001032   \n",
      "2019-09-18  1135100  Yahoo  10.261519   10.267267       -0.003393   \n",
      "2019-09-19   996000  Yahoo  10.266857   10.274623        0.005338   \n",
      "2019-09-20  2270000  Yahoo  10.268097   10.264361        0.001241   \n",
      "2019-09-23  1062400  Yahoo  10.259743   10.269162       -0.008354   \n",
      "\n",
      "            Close_log2_diff  \n",
      "Date                         \n",
      "2019-09-17        -0.002521  \n",
      "2019-09-18         0.003821  \n",
      "2019-09-19         0.007356  \n",
      "2019-09-20        -0.010262  \n",
      "2019-09-23         0.004801  \n"
     ]
    }
   ],
   "source": [
    "BAC['Open_log2_diff']=BAC['Open_log2'].diff()\n",
    "BAC['Close_log2_diff']=BAC['Close_log2'].diff()\n",
    "GOOG['Open_log2_diff']=GOOG['Open_log2'].diff()\n",
    "GOOG['Close_log2_diff']=GOOG['Close_log2'].diff()\n",
    "print(BAC.head())\n",
    "print(BAC.tail())\n",
    "print(GOOG.head())\n",
    "print(GOOG.tail())"
   ]
  },
  {
   "cell_type": "markdown",
   "metadata": {},
   "source": [
    "**ii** \n",
    "call fillna to eliminate NA values\n",
    "reference: https://pandas.pydata.org/pandas-docs/stable/reference/api/pandas.DataFrame.fillna.html"
   ]
  },
  {
   "cell_type": "code",
   "execution_count": 23,
   "metadata": {},
   "outputs": [
    {
     "name": "stdout",
     "output_type": "stream",
     "text": [
      "                Open      High       Low     Close  Adj Close   Volume Source  \\\n",
      "Date                                                                            \n",
      "2000-09-25  27.59375  28.09375  27.37500  27.50000  16.507301  8120600  Yahoo   \n",
      "2000-09-26  27.37500  27.71875  26.84375  26.90625  16.150898  9646800  Yahoo   \n",
      "\n",
      "            Open_log2  Close_log2  Open_log2_diff  Close_log2_diff  \n",
      "Date                                                                \n",
      "2000-09-25   4.786270    4.781360        0.000000          0.00000  \n",
      "2000-09-26   4.774787    4.749869       -0.011483         -0.03149  \n",
      "                  Open        High         Low       Close   Adj Close  \\\n",
      "Date                                                                     \n",
      "2009-09-24  249.300568  249.768799  245.579514  247.457474  247.457474   \n",
      "2009-09-25  246.222092  249.031570  245.081375  245.320480  245.320480   \n",
      "\n",
      "             Volume Source  Open_log2  Close_log2  Open_log2_diff  \\\n",
      "Date                                                                \n",
      "2009-09-24  5074000  Yahoo   7.961742    7.951037        0.000000   \n",
      "2009-09-25  4114400  Yahoo   7.943816    7.938524       -0.017926   \n",
      "\n",
      "            Close_log2_diff  \n",
      "Date                         \n",
      "2009-09-24         0.000000  \n",
      "2009-09-25        -0.012513  \n"
     ]
    }
   ],
   "source": [
    "BAC['Open_log2_diff']=BAC['Open_log2_diff'].fillna(0)\n",
    "BAC['Close_log2_diff']=BAC['Close_log2_diff'].fillna(0)\n",
    "GOOG['Open_log2_diff']=GOOG['Open_log2_diff'].fillna(0)\n",
    "GOOG['Close_log2_diff']=GOOG['Close_log2_diff'].fillna(0)\n",
    "print(BAC.head(2))\n",
    "print(GOOG.head(2))"
   ]
  },
  {
   "cell_type": "markdown",
   "metadata": {},
   "source": [
    "**iii**\n",
    " plot first order difference of log2(open) and log2(closed) price."
   ]
  },
  {
   "cell_type": "markdown",
   "metadata": {},
   "source": [
    "First, BAC:"
   ]
  },
  {
   "cell_type": "code",
   "execution_count": 28,
   "metadata": {},
   "outputs": [
    {
     "data": {
      "text/plain": [
       "4778"
      ]
     },
     "execution_count": 28,
     "metadata": {},
     "output_type": "execute_result"
    }
   ],
   "source": [
    "import matplotlib.pyplot as plt\n",
    "BAC['Open'].size"
   ]
  },
  {
   "cell_type": "code",
   "execution_count": 38,
   "metadata": {},
   "outputs": [
    {
     "data": {
      "text/plain": [
       "Text(0, 0.5, 'log2_FOA of BAC_open:')"
      ]
     },
     "execution_count": 38,
     "metadata": {},
     "output_type": "execute_result"
    },
    {
     "data": {
      "image/png": "[encoded data removed]",
      "text/plain": [
       "<Figure size 432x288 with 1 Axes>"
      ]
     },
     "metadata": {
      "needs_background": "light"
     },
     "output_type": "display_data"
    }
   ],
   "source": [
    "BAC.Open_log2_diff.plot()\n",
    "plt.ylabel('log2_FOA of BAC_open:')\n",
    "#BAC.to_excel(\"BAC_FOA_ver1.xlsx\")"
   ]
  },
  {
   "cell_type": "code",
   "execution_count": 39,
   "metadata": {},
   "outputs": [
    {
     "data": {
      "text/plain": [
       "Text(0, 0.5, 'log2_FOA of BAC_close:')"
      ]
     },
     "execution_count": 39,
     "metadata": {},
     "output_type": "execute_result"
    },
    {
     "data": {
      "image/png": "[encoded data removed]",
      "text/plain": [
       "<Figure size 432x288 with 1 Axes>"
      ]
     },
     "metadata": {
      "needs_background": "light"
     },
     "output_type": "display_data"
    }
   ],
   "source": [
    "BAC.Close_log2_diff.plot()\n",
    "plt.ylabel('log2_FOA of BAC_close:')"
   ]
  },
  {
   "cell_type": "markdown",
   "metadata": {},
   "source": [
    "Second, GOOG:"
   ]
  },
  {
   "cell_type": "code",
   "execution_count": 40,
   "metadata": {},
   "outputs": [
    {
     "name": "stdout",
     "output_type": "stream",
     "text": [
      "2516\n"
     ]
    }
   ],
   "source": [
    "print(GOOG['Open'].size)#check the size"
   ]
  },
  {
   "cell_type": "code",
   "execution_count": 41,
   "metadata": {},
   "outputs": [
    {
     "data": {
      "text/plain": [
       "Text(0, 0.5, 'log2_FOA of GOOG_open:')"
      ]
     },
     "execution_count": 41,
     "metadata": {},
     "output_type": "execute_result"
    },
    {
     "data": {
      "image/png": "[encoded data removed]",
      "text/plain": [
       "<Figure size 432x288 with 1 Axes>"
      ]
     },
     "metadata": {
      "needs_background": "light"
     },
     "output_type": "display_data"
    }
   ],
   "source": [
    "GOOG.Open_log2_diff.plot()\n",
    "plt.ylabel('log2_FOA of GOOG_open:')"
   ]
  },
  {
   "cell_type": "code",
   "execution_count": 42,
   "metadata": {},
   "outputs": [
    {
     "data": {
      "text/plain": [
       "Text(0, 0.5, 'log2_FOA of GOOG_close:')"
      ]
     },
     "execution_count": 42,
     "metadata": {},
     "output_type": "execute_result"
    },
    {
     "data": {
      "image/png": "[encoded data removed]",
      "text/plain": [
       "<Figure size 432x288 with 1 Axes>"
      ]
     },
     "metadata": {
      "needs_background": "light"
     },
     "output_type": "display_data"
    }
   ],
   "source": [
    "GOOG.Close_log2_diff.plot()\n",
    "plt.ylabel('log2_FOA of GOOG_close:')"
   ]
  },
  {
   "cell_type": "code",
   "execution_count": 43,
   "metadata": {},
   "outputs": [],
   "source": [
    "#a makeshift cell:\n",
    "#You should delete this one:\n",
    "GOOG.to_excel(\"GOOG_FOA_ver1.xlsx\")"
   ]
  },
  {
   "cell_type": "markdown",
   "metadata": {},
   "source": [
    "**3 other operations**\n",
    "It seems that we need to check the staionarity:(to be constructed...\n",
    ":)"
   ]
  }
 ],
 "metadata": {
  "kernelspec": {
   "display_name": "Python 3",
   "language": "python",
   "name": "python3"
  },
  "language_info": {
   "codemirror_mode": {
    "name": "ipython",
    "version": 3
   },
   "file_extension": ".py",
   "mimetype": "text/x-python",
   "name": "python",
   "nbconvert_exporter": "python",
   "pygments_lexer": "ipython3",
   "version": "3.8.3"
  }
 },
 "nbformat": 4,
 "nbformat_minor": 4
}
