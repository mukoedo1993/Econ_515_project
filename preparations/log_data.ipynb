{
 "cells": [
  {
   "cell_type": "code",
   "execution_count": 25,
   "metadata": {},
   "outputs": [
    {
     "name": "stdout",
     "output_type": "stream",
     "text": [
      "           DATE        CP     logCP\n",
      "289  2019-04-01  1938.893  7.569872\n",
      "290  2019-07-01  1920.338  7.560256\n",
      "291  2019-10-01  2000.736  7.601270\n",
      "292  2020-01-01  1739.103  7.461125\n",
      "293  2020-04-01  1535.309  7.336487\n"
     ]
    }
   ],
   "source": [
    "import pandas as pd\n",
    "#1: CP.csv\n",
    "url = 'https://raw.githubusercontent.com/mukoedo1993/Econ_515_project/master/preparations/CP.csv'\n",
    "CP = pd.read_csv(url, error_bad_lines=False)\n",
    "import numpy as np\n",
    "CP['logCP']=np.log(CP[['CP']])\n",
    "print(CP.tail())"
   ]
  },
  {
   "cell_type": "code",
   "execution_count": 26,
   "metadata": {},
   "outputs": [
    {
     "name": "stdout",
     "output_type": "stream",
     "text": [
      "240    7.189879\n",
      "241    7.244802\n",
      "242    7.204774\n",
      "243    7.221151\n",
      "244    7.139479\n",
      "Name: logCP, dtype: float64\n"
     ]
    }
   ],
   "source": [
    "import matplotlib.pyplot as plt\n",
    "import matplotlib.dates as mdates\n",
    "date=np.arange(1,245)\n",
    "logCP=CP['logCP']\n",
    "logCP_=logCP.iloc[1:245,]\n",
    "print(logCP_.tail())\n"
   ]
  },
  {
   "cell_type": "markdown",
   "metadata": {},
   "source": [
    "**plot**"
   ]
  },
  {
   "cell_type": "code",
   "execution_count": 27,
   "metadata": {
    "scrolled": true
   },
   "outputs": [
    {
     "data": {
      "text/plain": [
       "Text(0, 0.5, 'logCP')"
      ]
     },
     "execution_count": 27,
     "metadata": {},
     "output_type": "execute_result"
    },
    {
     "data": {
      "image/png": "[encoded data removed]",
      "text/plain": [
       "<Figure size 432x288 with 1 Axes>"
      ]
     },
     "metadata": {
      "needs_background": "light"
     },
     "output_type": "display_data"
    }
   ],
   "source": [
    "plt.plot(date,logCP_)#plot\n",
    "plt.xlabel('date(Q)')\n",
    "plt.ylabel('logCP')"
   ]
  },
  {
   "cell_type": "code",
   "execution_count": 28,
   "metadata": {},
   "outputs": [],
   "source": [
    "CP.to_excel(\"logCP.xlsx\") #output an xlsx file"
   ]
  },
  {
   "cell_type": "markdown",
   "metadata": {},
   "source": [
    "**repeat it on DPI,PCEC**\n",
    "\n",
    "**DPI**\n",
    "\n",
    "\n"
   ]
  },
  {
   "cell_type": "code",
   "execution_count": 29,
   "metadata": {},
   "outputs": [
    {
     "name": "stdout",
     "output_type": "stream",
     "text": [
      "           DATE        CP     logCP\n",
      "289  2019-04-01  1938.893  7.569872\n",
      "290  2019-07-01  1920.338  7.560256\n",
      "291  2019-10-01  2000.736  7.601270\n",
      "292  2020-01-01  1739.103  7.461125\n",
      "293  2020-04-01  1535.309  7.336487\n"
     ]
    }
   ],
   "source": [
    "#2: DPI.csv\n",
    "url = 'https://raw.githubusercontent.com/mukoedo1993/Econ_515_project/master/preparations/DPI.csv'\n",
    "DPI = pd.read_csv(url, error_bad_lines=False)\n",
    "DPI['logDPI']=np.log(DPI[['DPI']])\n",
    "print(CP.tail())"
   ]
  },
  {
   "cell_type": "code",
   "execution_count": 30,
   "metadata": {},
   "outputs": [
    {
     "name": "stdout",
     "output_type": "stream",
     "text": [
      "240    9.246690\n",
      "241    9.257321\n",
      "242    9.263835\n",
      "243    9.274296\n",
      "244    9.285434\n",
      "Name: logDPI, dtype: float64\n"
     ]
    }
   ],
   "source": [
    "date=np.arange(1,245)\n",
    "logDPI=DPI['logDPI']\n",
    "logDPI_=logDPI.iloc[1:245,]\n",
    "print(logDPI_.tail())\n"
   ]
  },
  {
   "cell_type": "markdown",
   "metadata": {},
   "source": [
    "*plot*"
   ]
  },
  {
   "cell_type": "code",
   "execution_count": 31,
   "metadata": {},
   "outputs": [
    {
     "data": {
      "text/plain": [
       "Text(0, 0.5, 'logDPI')"
      ]
     },
     "execution_count": 31,
     "metadata": {},
     "output_type": "execute_result"
    },
    {
     "data": {
      "image/png": "[encoded data removed]",
      "text/plain": [
       "<Figure size 432x288 with 1 Axes>"
      ]
     },
     "metadata": {
      "needs_background": "light"
     },
     "output_type": "display_data"
    }
   ],
   "source": [
    "plt.plot(date,logDPI_)#plot\n",
    "plt.xlabel('date(Q)')\n",
    "plt.ylabel('logDPI')"
   ]
  },
  {
   "cell_type": "markdown",
   "metadata": {},
   "source": [
    "*output: logDPI.xlsx*"
   ]
  },
  {
   "cell_type": "code",
   "execution_count": 32,
   "metadata": {},
   "outputs": [],
   "source": [
    "DPI.to_excel(\"logDPI.xlsx\") #output an xlsx file"
   ]
  },
  {
   "cell_type": "markdown",
   "metadata": {},
   "source": [
    "**PCEC**"
   ]
  },
  {
   "cell_type": "code",
   "execution_count": 33,
   "metadata": {},
   "outputs": [
    {
     "name": "stdout",
     "output_type": "stream",
     "text": [
      "           DATE       PCEC   logPCEC\n",
      "289  2019-04-01  14497.320  9.581719\n",
      "290  2019-07-01  14645.313  9.591876\n",
      "291  2019-10-01  14759.183  9.599621\n",
      "292  2020-01-01  14545.460  9.585034\n",
      "293  2020-04-01  13046.732  9.476293\n"
     ]
    }
   ],
   "source": [
    "#3: PCEC.csv\n",
    "url = 'https://raw.githubusercontent.com/mukoedo1993/Econ_515_project/master/preparations/PCEC.csv'\n",
    "PCEC = pd.read_csv(url, error_bad_lines=False)\n",
    "PCEC['logPCEC']=np.log(PCEC[['PCEC']])\n",
    "print(PCEC.tail())"
   ]
  },
  {
   "cell_type": "code",
   "execution_count": 34,
   "metadata": {},
   "outputs": [
    {
     "name": "stdout",
     "output_type": "stream",
     "text": [
      "240    9.164237\n",
      "241    9.174168\n",
      "242    9.185412\n",
      "243    9.198040\n",
      "244    9.203744\n",
      "Name: logPCEC, dtype: float64\n"
     ]
    }
   ],
   "source": [
    "date=np.arange(1,245)\n",
    "logPCEC=PCEC['logPCEC']\n",
    "logPCEC_=logPCEC.iloc[1:245,]\n",
    "print(logPCEC_.tail())"
   ]
  },
  {
   "cell_type": "code",
   "execution_count": 35,
   "metadata": {},
   "outputs": [
    {
     "data": {
      "text/plain": [
       "Text(0, 0.5, 'logPCEC')"
      ]
     },
     "execution_count": 35,
     "metadata": {},
     "output_type": "execute_result"
    },
    {
     "data": {
      "image/png": "[encoded data removed]",
      "text/plain": [
       "<Figure size 432x288 with 1 Axes>"
      ]
     },
     "metadata": {
      "needs_background": "light"
     },
     "output_type": "display_data"
    }
   ],
   "source": [
    "plt.plot(date,logPCEC_)#plot\n",
    "plt.xlabel('date(Q)')\n",
    "plt.ylabel('logPCEC')"
   ]
  },
  {
   "cell_type": "code",
   "execution_count": 36,
   "metadata": {},
   "outputs": [],
   "source": [
    "PCEC.to_excel(\"logPCEC.xlsx\") #output an xlsx file"
   ]
  },
  {
   "cell_type": "markdown",
   "metadata": {},
   "source": [
    "**CP**"
   ]
  },
  {
   "cell_type": "code",
   "execution_count": 37,
   "metadata": {},
   "outputs": [
    {
     "name": "stdout",
     "output_type": "stream",
     "text": [
      "           DATE      GDPC1  logGDPC1\n",
      "289  2019-04-01  19020.599  9.853278\n",
      "290  2019-07-01  19141.744  9.859627\n",
      "291  2019-10-01  19253.959  9.865472\n",
      "292  2020-01-01  19010.848  9.852765\n",
      "293  2020-04-01  17282.188  9.757432\n"
     ]
    }
   ],
   "source": [
    "#4: GDPC1.csv\n",
    "url = 'https://raw.githubusercontent.com/mukoedo1993/Econ_515_project/master/preparations/GDPC1.csv'\n",
    "GDPC1 = pd.read_csv(url, error_bad_lines=False)\n",
    "GDPC1['logGDPC1']=np.log(GDPC1[['GDPC1']])\n",
    "print(GDPC1.tail())"
   ]
  },
  {
   "cell_type": "code",
   "execution_count": 38,
   "metadata": {},
   "outputs": [
    {
     "name": "stdout",
     "output_type": "stream",
     "text": [
      "240    9.648165\n",
      "241    9.653877\n",
      "242    9.659295\n",
      "243    9.665355\n",
      "244    9.659592\n",
      "Name: logGDPC1, dtype: float64\n"
     ]
    }
   ],
   "source": [
    "date=np.arange(1,245)\n",
    "logGDPC1=GDPC1['logGDPC1']\n",
    "logGDPC1_=logGDPC1.iloc[1:245,]\n",
    "print(logGDPC1_.tail())"
   ]
  },
  {
   "cell_type": "code",
   "execution_count": 39,
   "metadata": {},
   "outputs": [
    {
     "data": {
      "text/plain": [
       "Text(0, 0.5, 'logGDP')"
      ]
     },
     "execution_count": 39,
     "metadata": {},
     "output_type": "execute_result"
    },
    {
     "data": {
      "image/png": "[encoded data removed]",
      "text/plain": [
       "<Figure size 432x288 with 1 Axes>"
      ]
     },
     "metadata": {
      "needs_background": "light"
     },
     "output_type": "display_data"
    }
   ],
   "source": [
    "plt.plot(date,logGDPC1_)#plot\n",
    "plt.xlabel('date(Q)')\n",
    "plt.ylabel('logGDP')"
   ]
  },
  {
   "cell_type": "code",
   "execution_count": 40,
   "metadata": {},
   "outputs": [],
   "source": [
    "GDPC1.to_excel(\"logGDP.xlsx\") #output an xlsx file"
   ]
  },
  {
   "cell_type": "markdown",
   "metadata": {},
   "source": [
    "**Dividend**"
   ]
  },
  {
   "cell_type": "code",
   "execution_count": 45,
   "metadata": {},
   "outputs": [
    {
     "name": "stdout",
     "output_type": "stream",
     "text": [
      "          DATE  Dividend  logDividend\n",
      "289   4/1/2019  1287.644     7.160569\n",
      "290   7/1/2019  1288.346     7.161115\n",
      "291  10/1/2019  1287.039     7.160100\n",
      "292   1/1/2020  1304.609     7.173659\n",
      "293   4/1/2020  1273.221     7.149305\n"
     ]
    }
   ],
   "source": [
    "#5: Dvnd.csv\n",
    "url = 'https://raw.githubusercontent.com/mukoedo1993/Econ_515_project/master/preparations/Dvnd.csv'\n",
    "Dvnd = pd.read_csv(url, error_bad_lines=False)\n",
    "Dvnd['logDividend']=np.log(Dvnd[['Dividend']])\n",
    "print(Dvnd.tail())"
   ]
  },
  {
   "cell_type": "code",
   "execution_count": 42,
   "metadata": {},
   "outputs": [
    {
     "name": "stdout",
     "output_type": "stream",
     "text": [
      "240    6.657294\n",
      "241    6.708107\n",
      "242    6.721198\n",
      "243    6.726004\n",
      "244    6.761583\n",
      "Name: logDividend, dtype: float64\n"
     ]
    }
   ],
   "source": [
    "date=np.arange(1,245)\n",
    "logDividend=Dvnd['logDividend']\n",
    "logDividend_=logDividend.iloc[1:245,]\n",
    "print(logDividend_.tail())"
   ]
  },
  {
   "cell_type": "code",
   "execution_count": 43,
   "metadata": {},
   "outputs": [
    {
     "data": {
      "text/plain": [
       "Text(0, 0.5, 'logDividend')"
      ]
     },
     "execution_count": 43,
     "metadata": {},
     "output_type": "execute_result"
    },
    {
     "data": {
      "image/png": "[encoded data removed]",
      "text/plain": [
       "<Figure size 432x288 with 1 Axes>"
      ]
     },
     "metadata": {
      "needs_background": "light"
     },
     "output_type": "display_data"
    }
   ],
   "source": [
    "plt.plot(date,logDividend_)#plot\n",
    "plt.xlabel('date(Q)')\n",
    "plt.ylabel('logDividend')"
   ]
  },
  {
   "cell_type": "code",
   "execution_count": 44,
   "metadata": {},
   "outputs": [],
   "source": [
    "Dvnd.to_excel(\"logDividend.xlsx\") #output an xlsx file"
   ]
  },
  {
   "cell_type": "markdown",
   "metadata": {},
   "source": [
    "**Comment**\n",
    "We used the jupyterlab to log five kinds of data, plotted them and then export them in five xlsx files, respectively. "
   ]
  }
 ],
 "metadata": {
  "kernelspec": {
   "display_name": "Python 3",
   "language": "python",
   "name": "python3"
  },
  "language_info": {
   "codemirror_mode": {
    "name": "ipython",
    "version": 3
   },
   "file_extension": ".py",
   "mimetype": "text/x-python",
   "name": "python",
   "nbconvert_exporter": "python",
   "pygments_lexer": "ipython3",
   "version": "3.8.3"
  }
 },
 "nbformat": 4,
 "nbformat_minor": 4
}
