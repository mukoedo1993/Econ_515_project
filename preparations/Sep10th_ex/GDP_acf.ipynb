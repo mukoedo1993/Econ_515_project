{
 "cells": [
  {
   "cell_type": "markdown",
   "metadata": {},
   "source": [
    "**function of autocovariance**\n",
    "not normalized. \n",
    "If you want to normalize it, just fcn(Xi,k)/fcn(Xi,0)"
   ]
  },
  {
   "cell_type": "code",
   "execution_count": 84,
   "metadata": {},
   "outputs": [],
   "source": [
    "import numpy as np\n",
    "def autocovariance(Xi,k):\n",
    "    N=len(Xi)\n",
    "    Xs=np.average(Xi)\n",
    "    autoCov = 0\n",
    "    for i in np.arange(0, N-k):\n",
    "        autoCov += ((Xi[i+k])-Xs)*(Xi[i]-Xs)\n",
    "    return (1/N)*autoCov\n"
   ]
  },
  {
   "cell_type": "code",
   "execution_count": 85,
   "metadata": {},
   "outputs": [],
   "source": [
    "from pandas.plotting import autocorrelation_plot"
   ]
  },
  {
   "cell_type": "code",
   "execution_count": 86,
   "metadata": {},
   "outputs": [
    {
     "data": {
      "text/plain": [
       "<Figure size 432x288 with 0 Axes>"
      ]
     },
     "execution_count": 86,
     "metadata": {},
     "output_type": "execute_result"
    },
    {
     "data": {
      "text/plain": [
       "<Figure size 432x288 with 0 Axes>"
      ]
     },
     "metadata": {},
     "output_type": "display_data"
    }
   ],
   "source": [
    "import matplotlib.pyplot as plt\n",
    "plt.figure()"
   ]
  },
  {
   "cell_type": "code",
   "execution_count": 87,
   "metadata": {},
   "outputs": [
    {
     "name": "stdout",
     "output_type": "stream",
     "text": [
      "           DATE      GDPC1  logGDPC1\n",
      "289  2019-04-01  19020.599  9.853278\n",
      "290  2019-07-01  19141.744  9.859627\n",
      "291  2019-10-01  19253.959  9.865472\n",
      "292  2020-01-01  19010.848  9.852765\n",
      "293  2020-04-01  17282.188  9.757432\n"
     ]
    }
   ],
   "source": [
    "import pandas as pd\n",
    "GDP_pre=pd.read_excel('logGDP.xlsx', index_col=0)  \n",
    "print(GDP_pre.tail())"
   ]
  },
  {
   "cell_type": "code",
   "execution_count": 88,
   "metadata": {},
   "outputs": [],
   "source": [
    "GDP_=GDP_pre['logGDPC1'].iloc[1:245,]"
   ]
  },
  {
   "cell_type": "code",
   "execution_count": 92,
   "metadata": {},
   "outputs": [],
   "source": [
    "import numpy as np\n",
    "GDP_array=np.array(GDP_)\n",
    "GDP_acf=[]\n",
    "for i in np.arange(0,37):\n",
    "    GDP_acf.append((autocovariance(GDP_array,i))/autocovariance(GDP_array,0))"
   ]
  },
  {
   "cell_type": "code",
   "execution_count": 95,
   "metadata": {},
   "outputs": [
    {
     "data": {
      "text/plain": [
       "Text(0, 0.5, 'covariance of logGDP:')"
      ]
     },
     "execution_count": 95,
     "metadata": {},
     "output_type": "execute_result"
    },
    {
     "data": {
      "image/png": "[encoded data removed]",
      "text/plain": [
       "<Figure size 432x288 with 1 Axes>"
      ]
     },
     "metadata": {
      "needs_background": "light"
     },
     "output_type": "display_data"
    }
   ],
   "source": [
    "import matplotlib.pyplot as plt\n",
    "x=np.arange(0,37)\n",
    "plt.plot(x,GDP_acf,'o')\n",
    "plt.xlabel('lag')\n",
    "plt.ylabel('covariance of logGDP:')"
   ]
  },
  {
   "cell_type": "code",
   "execution_count": 96,
   "metadata": {},
   "outputs": [
    {
     "name": "stdout",
     "output_type": "stream",
     "text": [
      "[1.0, 0.9875330811440663, 0.9746869172075189, 0.9618503547032037, 0.9490694797313244, 0.9363848554319048, 0.9236439006523075, 0.9108305185624482, 0.8976797365120466, 0.8843242969612717, 0.8710337879246718, 0.8574893580095693, 0.8443320789407499, 0.8314488831354103, 0.8190132235194642, 0.806761665388846, 0.7946269203012969, 0.7825982597901902, 0.7706910604610862, 0.7587324147474276, 0.746900771419229, 0.7349919802638698, 0.7230774453583683, 0.7114224586180904, 0.6999016899563824, 0.6883801359658445, 0.6767041654545081, 0.6646851462905075, 0.6523691132100848, 0.6399381962507263, 0.627433994191201, 0.6151029551984964, 0.6029916743887614, 0.5911345262727846, 0.5793150369411798, 0.567569789646032, 0.5557374291249141]\n"
     ]
    }
   ],
   "source": [
    "print(GDP_acf)"
   ]
  }
 ],
 "metadata": {
  "kernelspec": {
   "display_name": "Python 3",
   "language": "python",
   "name": "python3"
  },
  "language_info": {
   "codemirror_mode": {
    "name": "ipython",
    "version": 3
   },
   "file_extension": ".py",
   "mimetype": "text/x-python",
   "name": "python",
   "nbconvert_exporter": "python",
   "pygments_lexer": "ipython3",
   "version": "3.8.3"
  }
 },
 "nbformat": 4,
 "nbformat_minor": 4
}
