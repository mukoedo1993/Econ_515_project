{
 "cells": [
  {
   "cell_type": "code",
   "execution_count": 70,
   "metadata": {},
   "outputs": [],
   "source": [
    "import numpy as np\n",
    "def autocovariance(Xi,k):\n",
    "    N=len(Xi)\n",
    "    Xs=np.average(Xi)\n",
    "    autoCov = 0\n",
    "    for i in np.arange(0, N-k):\n",
    "        autoCov += ((Xi[i+k])-Xs)*(Xi[i]-Xs)\n",
    "    return (1/(N-1))*autoCov\n"
   ]
  },
  {
   "cell_type": "code",
   "execution_count": 71,
   "metadata": {},
   "outputs": [],
   "source": [
    "from pandas.plotting import autocorrelation_plot"
   ]
  },
  {
   "cell_type": "code",
   "execution_count": 72,
   "metadata": {},
   "outputs": [
    {
     "data": {
      "text/plain": [
       "<Figure size 432x288 with 0 Axes>"
      ]
     },
     "execution_count": 72,
     "metadata": {},
     "output_type": "execute_result"
    },
    {
     "data": {
      "text/plain": [
       "<Figure size 432x288 with 0 Axes>"
      ]
     },
     "metadata": {},
     "output_type": "display_data"
    }
   ],
   "source": [
    "import matplotlib.pyplot as plt\n",
    "plt.figure()"
   ]
  },
  {
   "cell_type": "code",
   "execution_count": 73,
   "metadata": {},
   "outputs": [
    {
     "name": "stdout",
     "output_type": "stream",
     "text": [
      "           DATE      GDPC1  logGDPC1\n",
      "289  2019-04-01  19020.599  9.853278\n",
      "290  2019-07-01  19141.744  9.859627\n",
      "291  2019-10-01  19253.959  9.865472\n",
      "292  2020-01-01  19010.848  9.852765\n",
      "293  2020-04-01  17282.188  9.757432\n"
     ]
    }
   ],
   "source": [
    "import pandas as pd\n",
    "GDP_pre=pd.read_excel('logGDP.xlsx', index_col=0)  \n",
    "print(GDP_pre.tail())"
   ]
  },
  {
   "cell_type": "code",
   "execution_count": 74,
   "metadata": {},
   "outputs": [],
   "source": [
    "GDP_=GDP_pre['logGDPC1'].iloc[1:245,]"
   ]
  },
  {
   "cell_type": "code",
   "execution_count": 82,
   "metadata": {},
   "outputs": [],
   "source": [
    "import numpy as np\n",
    "GDP_array=np.array(GDP_)\n",
    "GDP_acf=[]\n",
    "for i in np.arange(0,27):\n",
    "    GDP_acf.append((autocovariance(GDP_array,i))/autocovariance(GDP_array,0))"
   ]
  },
  {
   "cell_type": "code",
   "execution_count": 83,
   "metadata": {},
   "outputs": [
    {
     "data": {
      "text/plain": [
       "Text(0, 0.5, 'covariance of logGDP:')"
      ]
     },
     "execution_count": 83,
     "metadata": {},
     "output_type": "execute_result"
    },
    {
     "data": {
      "image/png": "[encoded data removed]",
      "text/plain": [
       "<Figure size 432x288 with 1 Axes>"
      ]
     },
     "metadata": {
      "needs_background": "light"
     },
     "output_type": "display_data"
    }
   ],
   "source": [
    "import matplotlib.pyplot as plt\n",
    "x=np.arange(1,28)\n",
    "plt.plot(x,GDP_acf,'o')\n",
    "plt.xlabel('lag')\n",
    "plt.ylabel('covariance of logGDP:')"
   ]
  },
  {
   "cell_type": "code",
   "execution_count": null,
   "metadata": {},
   "outputs": [],
   "source": []
  }
 ],
 "metadata": {
  "kernelspec": {
   "display_name": "Python 3",
   "language": "python",
   "name": "python3"
  },
  "language_info": {
   "codemirror_mode": {
    "name": "ipython",
    "version": 3
   },
   "file_extension": ".py",
   "mimetype": "text/x-python",
   "name": "python",
   "nbconvert_exporter": "python",
   "pygments_lexer": "ipython3",
   "version": "3.8.3"
  }
 },
 "nbformat": 4,
 "nbformat_minor": 4
}
